{
 "cells": [
  {
   "cell_type": "code",
   "execution_count": null,
   "metadata": {},
   "outputs": [],
   "source": [
    "import pandas as pd\n",
    "import numpy as np\n",
    "import matplotlib.pyplot as plt\n",
    "import itertools \n",
    "import random\n",
    "from itertools import product\n",
    "from scipy.stats import linregress\n",
    "from datetime import datetime\n",
    "plt.style.use(\"seaborn\")\n",
    "pd.set_option(\"display.max_rows\", None, \"display.max_columns\", None)#to display complete dataframe"
   ]
  },
  {
   "cell_type": "code",
   "execution_count": null,
   "metadata": {},
   "outputs": [],
   "source": [
    "#Parameters \n",
    "bars_to_exit = 1\n",
    "\n",
    "#----------------------------------------------GETTING THE DATA----------------------------------------------------------------------------------\n",
    "original_data = pd.read_csv('<data location>')\n",
    "#-----------------------------------------------------------------------------------------------------------------------------------------------\n",
    "\n",
    "data = original_data.copy()\n",
    "\n",
    "data['trade_open_price'] = data.Open.shift(bars_to_exit-1)\n",
    "\n",
    "#Save in a np array the results for every trade in pips\n",
    "trades_array = (data.Close - data.trade_open_price).to_numpy()\n"
   ]
  },
  {
   "cell_type": "code",
   "execution_count": null,
   "metadata": {},
   "outputs": [],
   "source": []
  }
 ],
 "metadata": {
  "language_info": {
   "name": "python"
  },
  "orig_nbformat": 4
 },
 "nbformat": 4,
 "nbformat_minor": 2
}
